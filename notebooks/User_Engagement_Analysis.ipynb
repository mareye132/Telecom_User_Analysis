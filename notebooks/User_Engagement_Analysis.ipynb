{
 "cells": [
  {
   "cell_type": "code",
   "execution_count": null,
   "metadata": {},
   "outputs": [],
   "source": [
    "# Analysis Notebook\n",
    "\n",
    "#This notebook demonstrates how to run the user engagement analysis script and visualize the results.\n",
    "\n",
    "# notebooks/User_Engagement_Analysis.ipynb\n",
    "\n",
    "import subprocess\n",
    "\n",
    "# Run the Python script\n",
    "subprocess.run(['python', '../scripts/analysis.py'], check=True)\n"
   ]
  }
 ],
 "metadata": {
  "language_info": {
   "name": "python"
  }
 },
 "nbformat": 4,
 "nbformat_minor": 2
}
